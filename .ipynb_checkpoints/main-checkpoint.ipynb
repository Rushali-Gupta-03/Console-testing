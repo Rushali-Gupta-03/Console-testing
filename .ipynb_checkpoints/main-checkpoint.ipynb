{
 "cells": [
  {
   "cell_type": "code",
   "execution_count": 1,
   "id": "e8ae6b19-9137-420e-8110-49a44e1908f1",
   "metadata": {
    "tags": []
   },
   "outputs": [
    {
     "name": "stdout",
     "output_type": "stream",
     "text": [
      "Requirement already satisfied: pandas in /usr/local/lib/python3.10/site-packages (from -r requirements.txt (line 2)) (1.5.2)\n",
      "Collecting snowflake (from -r requirements.txt (line 3))\n",
      "  Downloading snowflake-1.4.0-py3-none-any.whl.metadata (2.0 kB)\n",
      "Requirement already satisfied: python-dateutil>=2.8.1 in /usr/local/lib/python3.10/site-packages (from pandas->-r requirements.txt (line 2)) (2.9.0.post0)\n",
      "Requirement already satisfied: pytz>=2020.1 in /usr/local/lib/python3.10/site-packages (from pandas->-r requirements.txt (line 2)) (2023.4)\n",
      "Requirement already satisfied: numpy>=1.21.0 in /usr/local/lib/python3.10/site-packages (from pandas->-r requirements.txt (line 2)) (1.24.2)\n",
      "Collecting snowflake-core==1.4.0 (from snowflake->-r requirements.txt (line 3))\n",
      "  Downloading snowflake_core-1.4.0-py3-none-any.whl.metadata (2.0 kB)\n",
      "Collecting snowflake-legacy (from snowflake->-r requirements.txt (line 3))\n",
      "  Downloading snowflake_legacy-1.0.0-py3-none-any.whl.metadata (2.5 kB)\n",
      "Collecting pydantic>=2 (from snowflake-core==1.4.0->snowflake->-r requirements.txt (line 3))\n",
      "  Downloading pydantic-2.11.4-py3-none-any.whl.metadata (66 kB)\n",
      "Requirement already satisfied: pyyaml in /usr/local/lib/python3.10/site-packages (from snowflake-core==1.4.0->snowflake->-r requirements.txt (line 3)) (5.3.1)\n",
      "Requirement already satisfied: requests in /usr/local/lib/python3.10/site-packages (from snowflake-core==1.4.0->snowflake->-r requirements.txt (line 3)) (2.28.2)\n",
      "Collecting snowflake-connector-python (from snowflake-core==1.4.0->snowflake->-r requirements.txt (line 3))\n",
      "  Downloading snowflake_connector_python-3.15.0-cp310-cp310-manylinux_2_17_x86_64.manylinux2014_x86_64.whl.metadata (70 kB)\n",
      "Requirement already satisfied: urllib3 in /usr/local/lib/python3.10/site-packages (from snowflake-core==1.4.0->snowflake->-r requirements.txt (line 3)) (1.26.20)\n",
      "Collecting annotated-types>=0.6.0 (from pydantic>=2->snowflake-core==1.4.0->snowflake->-r requirements.txt (line 3))\n",
      "  Downloading annotated_types-0.7.0-py3-none-any.whl.metadata (15 kB)\n",
      "Collecting pydantic-core==2.33.2 (from pydantic>=2->snowflake-core==1.4.0->snowflake->-r requirements.txt (line 3))\n",
      "  Downloading pydantic_core-2.33.2-cp310-cp310-manylinux_2_17_x86_64.manylinux2014_x86_64.whl.metadata (6.8 kB)\n",
      "Requirement already satisfied: typing-extensions>=4.12.2 in /usr/local/lib/python3.10/site-packages (from pydantic>=2->snowflake-core==1.4.0->snowflake->-r requirements.txt (line 3)) (4.13.2)\n",
      "Collecting typing-inspection>=0.4.0 (from pydantic>=2->snowflake-core==1.4.0->snowflake->-r requirements.txt (line 3))\n",
      "  Downloading typing_inspection-0.4.0-py3-none-any.whl.metadata (2.6 kB)\n",
      "Requirement already satisfied: six>=1.5 in /usr/local/lib/python3.10/site-packages (from python-dateutil>=2.8.1->pandas->-r requirements.txt (line 2)) (1.17.0)\n",
      "Requirement already satisfied: charset-normalizer<4,>=2 in /usr/local/lib/python3.10/site-packages (from requests->snowflake-core==1.4.0->snowflake->-r requirements.txt (line 3)) (2.1.1)\n",
      "Requirement already satisfied: idna<4,>=2.5 in /usr/local/lib/python3.10/site-packages (from requests->snowflake-core==1.4.0->snowflake->-r requirements.txt (line 3)) (3.10)\n",
      "Requirement already satisfied: certifi>=2017.4.17 in /usr/local/lib/python3.10/site-packages (from requests->snowflake-core==1.4.0->snowflake->-r requirements.txt (line 3)) (2025.4.26)\n",
      "Collecting asn1crypto<2.0.0,>0.24.0 (from snowflake-connector-python->snowflake-core==1.4.0->snowflake->-r requirements.txt (line 3))\n",
      "  Downloading asn1crypto-1.5.1-py2.py3-none-any.whl.metadata (13 kB)\n",
      "Requirement already satisfied: boto3>=1.24 in /usr/local/lib/python3.10/site-packages (from snowflake-connector-python->snowflake-core==1.4.0->snowflake->-r requirements.txt (line 3)) (1.26.76)\n",
      "Requirement already satisfied: botocore>=1.24 in /usr/local/lib/python3.10/site-packages (from snowflake-connector-python->snowflake-core==1.4.0->snowflake->-r requirements.txt (line 3)) (1.35.99)\n",
      "Requirement already satisfied: cffi<2.0.0,>=1.9 in /usr/local/lib/python3.10/site-packages (from snowflake-connector-python->snowflake-core==1.4.0->snowflake->-r requirements.txt (line 3)) (1.17.1)\n",
      "Requirement already satisfied: cryptography>=3.1.0 in /usr/local/lib/python3.10/site-packages (from snowflake-connector-python->snowflake-core==1.4.0->snowflake->-r requirements.txt (line 3)) (44.0.3)\n",
      "Collecting pyOpenSSL<26.0.0,>=22.0.0 (from snowflake-connector-python->snowflake-core==1.4.0->snowflake->-r requirements.txt (line 3))\n",
      "  Downloading pyOpenSSL-25.0.0-py3-none-any.whl.metadata (16 kB)\n",
      "Requirement already satisfied: pyjwt<3.0.0 in /usr/local/lib/python3.10/site-packages (from snowflake-connector-python->snowflake-core==1.4.0->snowflake->-r requirements.txt (line 3)) (2.10.1)\n",
      "Requirement already satisfied: packaging in /usr/local/lib/python3.10/site-packages (from snowflake-connector-python->snowflake-core==1.4.0->snowflake->-r requirements.txt (line 3)) (23.2)\n",
      "Collecting filelock<4,>=3.5 (from snowflake-connector-python->snowflake-core==1.4.0->snowflake->-r requirements.txt (line 3))\n",
      "  Downloading filelock-3.18.0-py3-none-any.whl.metadata (2.9 kB)\n",
      "Collecting sortedcontainers>=2.4.0 (from snowflake-connector-python->snowflake-core==1.4.0->snowflake->-r requirements.txt (line 3))\n",
      "  Downloading sortedcontainers-2.4.0-py2.py3-none-any.whl.metadata (10 kB)\n",
      "Requirement already satisfied: platformdirs<5.0.0,>=2.6.0 in /usr/local/lib/python3.10/site-packages (from snowflake-connector-python->snowflake-core==1.4.0->snowflake->-r requirements.txt (line 3)) (4.3.8)\n",
      "Collecting tomlkit (from snowflake-connector-python->snowflake-core==1.4.0->snowflake->-r requirements.txt (line 3))\n",
      "  Downloading tomlkit-0.13.2-py3-none-any.whl.metadata (2.7 kB)\n",
      "Requirement already satisfied: pycparser in /usr/local/lib/python3.10/site-packages (from cffi<2.0.0,>=1.9->snowflake-connector-python->snowflake-core==1.4.0->snowflake->-r requirements.txt (line 3)) (2.22)\n",
      "Collecting botocore>=1.24 (from snowflake-connector-python->snowflake-core==1.4.0->snowflake->-r requirements.txt (line 3))\n",
      "  Using cached botocore-1.29.165-py3-none-any.whl.metadata (5.9 kB)\n",
      "Requirement already satisfied: jmespath<2.0.0,>=0.7.1 in /usr/local/lib/python3.10/site-packages (from boto3>=1.24->snowflake-connector-python->snowflake-core==1.4.0->snowflake->-r requirements.txt (line 3)) (1.0.1)\n",
      "Collecting s3transfer<0.7.0,>=0.6.0 (from boto3>=1.24->snowflake-connector-python->snowflake-core==1.4.0->snowflake->-r requirements.txt (line 3))\n",
      "  Using cached s3transfer-0.6.2-py3-none-any.whl.metadata (1.8 kB)\n",
      "Downloading snowflake-1.4.0-py3-none-any.whl (5.6 kB)\n",
      "Downloading snowflake_core-1.4.0-py3-none-any.whl (2.0 MB)\n",
      "\u001b[2K   \u001b[90m━━━━━━━━━━━━━━━━━━━━━━━━━━━━━━━━━━━━━━━━\u001b[0m \u001b[32m2.0/2.0 MB\u001b[0m \u001b[31m13.4 MB/s\u001b[0m eta \u001b[36m0:00:00\u001b[0m\n",
      "\u001b[?25hDownloading pydantic-2.11.4-py3-none-any.whl (443 kB)\n",
      "Downloading pydantic_core-2.33.2-cp310-cp310-manylinux_2_17_x86_64.manylinux2014_x86_64.whl (2.0 MB)\n",
      "\u001b[2K   \u001b[90m━━━━━━━━━━━━━━━━━━━━━━━━━━━━━━━━━━━━━━━━\u001b[0m \u001b[32m2.0/2.0 MB\u001b[0m \u001b[31m46.6 MB/s\u001b[0m eta \u001b[36m0:00:00\u001b[0m\n",
      "\u001b[?25hDownloading annotated_types-0.7.0-py3-none-any.whl (13 kB)\n",
      "Downloading typing_inspection-0.4.0-py3-none-any.whl (14 kB)\n",
      "Downloading snowflake_connector_python-3.15.0-cp310-cp310-manylinux_2_17_x86_64.manylinux2014_x86_64.whl (2.6 MB)\n",
      "\u001b[2K   \u001b[90m━━━━━━━━━━━━━━━━━━━━━━━━━━━━━━━━━━━━━━━━\u001b[0m \u001b[32m2.6/2.6 MB\u001b[0m \u001b[31m55.0 MB/s\u001b[0m eta \u001b[36m0:00:00\u001b[0m\n",
      "\u001b[?25hDownloading asn1crypto-1.5.1-py2.py3-none-any.whl (105 kB)\n",
      "Downloading filelock-3.18.0-py3-none-any.whl (16 kB)\n",
      "Downloading pyOpenSSL-25.0.0-py3-none-any.whl (56 kB)\n",
      "Downloading botocore-1.29.165-py3-none-any.whl (11.0 MB)\n",
      "\u001b[2K   \u001b[90m━━━━━━━━━━━━━━━━━━━━━━━━━━━━━━━━━━━━━━━━\u001b[0m \u001b[32m11.0/11.0 MB\u001b[0m \u001b[31m56.6 MB/s\u001b[0m eta \u001b[36m0:00:00\u001b[0m\n",
      "\u001b[?25hUsing cached s3transfer-0.6.2-py3-none-any.whl (79 kB)\n",
      "Downloading sortedcontainers-2.4.0-py2.py3-none-any.whl (29 kB)\n",
      "Downloading snowflake_legacy-1.0.0-py3-none-any.whl (3.1 kB)\n",
      "Downloading tomlkit-0.13.2-py3-none-any.whl (37 kB)\n",
      "Installing collected packages: sortedcontainers, asn1crypto, typing-inspection, tomlkit, snowflake-legacy, pydantic-core, filelock, annotated-types, pydantic, botocore, s3transfer, pyOpenSSL, snowflake-connector-python, snowflake-core, snowflake\n",
      "\u001b[2K  Attempting uninstall: botocorem\u001b[90m╺\u001b[0m\u001b[90m━━━━━━━━━━━━━━━━━━\u001b[0m \u001b[32m 8/15\u001b[0m [pydantic]core]\n",
      "\u001b[2K    Found existing installation: botocore 1.35.99━━━━━━━━━━━━━\u001b[0m \u001b[32m 8/15\u001b[0m [pydantic]\n",
      "\u001b[2K    Uninstalling botocore-1.35.99:0m\u001b[90m╺\u001b[0m\u001b[90m━━━━━━━━━━━━━━━\u001b[0m \u001b[32m 9/15\u001b[0m [botocore]\n",
      "\u001b[2K      Successfully uninstalled botocore-1.35.99━━━━━━━━━━━━━━━\u001b[0m \u001b[32m 9/15\u001b[0m [botocore]\n",
      "\u001b[2K  Attempting uninstall: s3transfer0m\u001b[90m╺\u001b[0m\u001b[90m━━━━━━━━━━━━━━━\u001b[0m \u001b[32m 9/15\u001b[0m [botocore]\n",
      "\u001b[2K    Found existing installation: s3transfer 0.10.4━━━━━━━━━━━━\u001b[0m \u001b[32m 9/15\u001b[0m [botocore]\n",
      "\u001b[2K    Uninstalling s3transfer-0.10.4:0m╺\u001b[0m\u001b[90m━━━━━━━━━━━━━━━\u001b[0m \u001b[32m 9/15\u001b[0m [botocore]\n",
      "\u001b[2K      Successfully uninstalled s3transfer-0.10.4━━━━━━━━━━━━━━\u001b[0m \u001b[32m 9/15\u001b[0m [botocore]\n",
      "\u001b[2K   \u001b[90m━━━━━━━━━━━━━━━━━━━━━━━━━━━━━━━━━━━━━━━━\u001b[0m \u001b[32m15/15\u001b[0m [snowflake]15\u001b[0m [snowflake-core]ctor-python]\n",
      "\u001b[1A\u001b[2K\u001b[31mERROR: pip's dependency resolver does not currently take into account all the packages that are installed. This behaviour is the source of the following dependency conflicts.\n",
      "aiobotocore 2.5.2 requires botocore<1.29.162,>=1.29.161, but you have botocore 1.29.165 which is incompatible.\n",
      "awscli 1.36.40 requires botocore==1.35.99, but you have botocore 1.29.165 which is incompatible.\n",
      "awscli 1.36.40 requires s3transfer<0.11.0,>=0.10.0, but you have s3transfer 0.6.2 which is incompatible.\n",
      "solyticsutils 1.0.1 requires pyarrow==11.0.0, but you have pyarrow 10.0.1 which is incompatible.\u001b[0m\u001b[31m\n",
      "\u001b[0mSuccessfully installed annotated-types-0.7.0 asn1crypto-1.5.1 botocore-1.29.165 filelock-3.18.0 pyOpenSSL-25.0.0 pydantic-2.11.4 pydantic-core-2.33.2 s3transfer-0.6.2 snowflake-1.4.0 snowflake-connector-python-3.15.0 snowflake-core-1.4.0 snowflake-legacy-1.0.0 sortedcontainers-2.4.0 tomlkit-0.13.2 typing-inspection-0.4.0\n"
     ]
    },
    {
     "data": {
      "application/javascript": [
       "\n",
       "    var script = document.createElement('script');\n",
       "    script.src = \"https://cdnjs.cloudflare.com/ajax/libs/require.js/2.3.6/require.min.js\";\n",
       "    document.head.appendChild(script);\n",
       "    script.onload = function() {\n",
       "        console.log(\"Require.js loaded successfully!\");\n",
       "    };\n"
      ],
      "text/plain": [
       "<IPython.core.display.Javascript object>"
      ]
     },
     "metadata": {},
     "output_type": "display_data"
    },
    {
     "name": "stdout",
     "output_type": "stream",
     "text": [
      "Successfully imported rows into Snowflake.\n"
     ]
    },
    {
     "name": "stderr",
     "output_type": "stream",
     "text": [
      "/tmp/ipykernel_56/1309602549.py:25: UserWarning: pandas only supports SQLAlchemy connectable (engine/connection) or database string URI or sqlite3 DBAPI2 connection. Other DBAPI2 objects are not tested. Please consider using SQLAlchemy.\n",
      "  df = pd.read_sql(query, conn)\n"
     ]
    },
    {
     "name": "stdout",
     "output_type": "stream",
     "text": [
      "   ROW_ID  CAPSULE     AGE  12224  DPROS  123          VOL  GLEASON  AGE2  \\\n",
      "0       1        0  234472      1      3    2          0.0        7    72   \n",
      "1       2        0   70567      1      1    2          0.0        6    70   \n",
      "2       3        0      76      2      2    1  204546576.0        7    76   \n",
      "3       4        0      69      1      1    1         55.9        6    69   \n",
      "4       5        1      71      1      3    2          0.0        8    71   \n",
      "\n",
      "   1245 NEWONE11 NEWONE222  PK  \n",
      "0     3      yes      None   1  \n",
      "1     1   no,yes      None   2  \n",
      "2     2      yes      None   3  \n",
      "3     1       no      None   4  \n",
      "4     3       no      None   5  \n",
      "Dataset  will be saved from jobs.\n"
     ]
    }
   ],
   "source": [
    "!pip install -r requirements.txt\n",
    "from warpdrive import WarpDrive\n",
    "import pandas as pd\n",
    "from snowflake.connector.pandas_tools import write_pandas\n",
    "import snowflake.connector\n",
    "\n",
    "wd = WarpDrive()\n",
    "\n",
    "# your code here\n",
    "conn = snowflake.connector.connect(\n",
    "    user='AMAN1004',\n",
    "    password='Aman@1004bhardwaj#',\n",
    "    account='HAENBFF-ZU48482',\n",
    "    warehouse='COMPUTE_WH',\n",
    "    database='MY_TEST_DB',\n",
    "    schema='MY_SCHEMA'\n",
    ")\n",
    "cur = conn.cursor()\n",
    "# Example DataFrame\n",
    "print(f\"Successfully imported rows into Snowflake.\")\n",
    "query =  \"SELECT * FROM MY_TEST_DB.MY_SCHEMA.MY_TABLE3;\"\n",
    "\n",
    "# Execute the query and load into a Pandas DataFrame\n",
    "try:\n",
    "    df = pd.read_sql(query, conn)\n",
    "    print(df.head())  # Display the first few rows\n",
    "    wd.create_df(df)\n",
    "finally:\n",
    "    # Close the connection\n",
    "    conn.close()"
   ]
  },
  {
   "cell_type": "code",
   "execution_count": null,
   "id": "cda723ba-7d19-4a15-8184-ac38892a044b",
   "metadata": {},
   "outputs": [],
   "source": []
  }
 ],
 "metadata": {
  "kernelspec": {
   "display_name": "Python 3.10",
   "language": "python",
   "name": "python3"
  },
  "language_info": {
   "codemirror_mode": {
    "name": "ipython",
    "version": 3
   },
   "file_extension": ".py",
   "mimetype": "text/x-python",
   "name": "python",
   "nbconvert_exporter": "python",
   "pygments_lexer": "ipython3",
   "version": "3.10.12"
  }
 },
 "nbformat": 4,
 "nbformat_minor": 5
}
